{
 "cells": [
  {
   "cell_type": "markdown",
   "metadata": {},
   "source": [
    "## Case Santander Let's Code - Consumo de pasta de dente no Brasil"
   ]
  },
  {
   "cell_type": "code",
   "execution_count": 1193,
   "metadata": {},
   "outputs": [],
   "source": [
    "import requests as r\n",
    "import json "
   ]
  },
  {
   "cell_type": "markdown",
   "metadata": {},
   "source": [
    "# Aquisição de dados do IBGE sobre produção e consumo de dentifrícios (Pasta de Dente, Creme dental)"
   ]
  },
  {
   "cell_type": "markdown",
   "metadata": {},
   "source": [
    "## Url de aquisição gerada pelo serviço dados do IBGE"
   ]
  },
  {
   "cell_type": "markdown",
   "metadata": {},
   "source": [
    "### Dados de 2005-2013"
   ]
  },
  {
   "cell_type": "code",
   "execution_count": 1194,
   "metadata": {},
   "outputs": [],
   "source": [
    "data = r.get('https://servicodados.ibge.gov.br/api/v3/agregados/5806/periodos/2005|2006|2007|2008|2009|2010|2011|2012|2013/variaveis/214|1982?localidades=N1[all]&classificacao=718[35882]')\n",
    "data = data.json()"
   ]
  },
  {
   "cell_type": "code",
   "execution_count": 1195,
   "metadata": {},
   "outputs": [
    {
     "data": {
      "text/plain": [
       "[{'id': '214',\n",
       "  'variavel': 'Quantidade produzida',\n",
       "  'unidade': 'Quilogramas',\n",
       "  'resultados': [{'classificacoes': [{'id': '718',\n",
       "      'nome': 'Classes das atividades industriais e produtos - Prodlist 2013',\n",
       "      'categoria': {'35882': '2063.2050 Dentifrícios (pastas de dentes; creme dental)'}}],\n",
       "    'series': [{'localidade': {'id': '1',\n",
       "       'nivel': {'id': 'N1', 'nome': 'Brasil'},\n",
       "       'nome': 'Brasil'},\n",
       "      'serie': {'2005': '161746130',\n",
       "       '2006': '179253671',\n",
       "       '2007': '172162880',\n",
       "       '2008': '153732885',\n",
       "       '2009': '184957618',\n",
       "       '2010': '151722422',\n",
       "       '2011': '150416767',\n",
       "       '2012': '153900283',\n",
       "       '2013': '170619937'}}]}]},\n",
       " {'id': '1982',\n",
       "  'variavel': 'Quantidade vendida',\n",
       "  'unidade': 'Quilogramas',\n",
       "  'resultados': [{'classificacoes': [{'id': '718',\n",
       "      'nome': 'Classes das atividades industriais e produtos - Prodlist 2013',\n",
       "      'categoria': {'35882': '2063.2050 Dentifrícios (pastas de dentes; creme dental)'}}],\n",
       "    'series': [{'localidade': {'id': '1',\n",
       "       'nivel': {'id': 'N1', 'nome': 'Brasil'},\n",
       "       'nome': 'Brasil'},\n",
       "      'serie': {'2005': '111296860',\n",
       "       '2006': '126246414',\n",
       "       '2007': '130074957',\n",
       "       '2008': '131992105',\n",
       "       '2009': '142996330',\n",
       "       '2010': '136297304',\n",
       "       '2011': '127040416',\n",
       "       '2012': '154101336',\n",
       "       '2013': '165234657'}}]}]}]"
      ]
     },
     "execution_count": 1195,
     "metadata": {},
     "output_type": "execute_result"
    }
   ],
   "source": [
    "data"
   ]
  },
  {
   "cell_type": "code",
   "execution_count": 1196,
   "metadata": {},
   "outputs": [
    {
     "data": {
      "text/plain": [
       "{'2005': '161746130',\n",
       " '2006': '179253671',\n",
       " '2007': '172162880',\n",
       " '2008': '153732885',\n",
       " '2009': '184957618',\n",
       " '2010': '151722422',\n",
       " '2011': '150416767',\n",
       " '2012': '153900283',\n",
       " '2013': '170619937'}"
      ]
     },
     "execution_count": 1196,
     "metadata": {},
     "output_type": "execute_result"
    }
   ],
   "source": [
    "producao = data[0]['resultados'][0]['series'][0]['serie']# Dados de produção\n",
    "producao"
   ]
  },
  {
   "cell_type": "code",
   "execution_count": 1197,
   "metadata": {},
   "outputs": [
    {
     "data": {
      "text/plain": [
       "[161746.13,\n",
       " 179253.671,\n",
       " 172162.88,\n",
       " 153732.885,\n",
       " 184957.618,\n",
       " 151722.422,\n",
       " 150416.767,\n",
       " 153900.283,\n",
       " 170619.937]"
      ]
     },
     "execution_count": 1197,
     "metadata": {},
     "output_type": "execute_result"
    }
   ],
   "source": [
    "producaoLista = []\n",
    "for item in producao:\n",
    "    producaoLista.append(float(producao[item])/1000)\n",
    "producaoLista"
   ]
  },
  {
   "cell_type": "code",
   "execution_count": 1198,
   "metadata": {},
   "outputs": [
    {
     "data": {
      "text/plain": [
       "{'2005': '111296860',\n",
       " '2006': '126246414',\n",
       " '2007': '130074957',\n",
       " '2008': '131992105',\n",
       " '2009': '142996330',\n",
       " '2010': '136297304',\n",
       " '2011': '127040416',\n",
       " '2012': '154101336',\n",
       " '2013': '165234657'}"
      ]
     },
     "execution_count": 1198,
     "metadata": {},
     "output_type": "execute_result"
    }
   ],
   "source": [
    "vendas = data[1]['resultados'][0]['series'][0]['serie'] #Dados de vendas\n",
    "vendas"
   ]
  },
  {
   "cell_type": "code",
   "execution_count": 1199,
   "metadata": {},
   "outputs": [
    {
     "data": {
      "text/plain": [
       "[111296.86,\n",
       " 126246.414,\n",
       " 130074.957,\n",
       " 131992.105,\n",
       " 142996.33,\n",
       " 136297.304,\n",
       " 127040.416,\n",
       " 154101.336,\n",
       " 165234.657]"
      ]
     },
     "execution_count": 1199,
     "metadata": {},
     "output_type": "execute_result"
    }
   ],
   "source": [
    "vendasLista = []\n",
    "for item in vendas:\n",
    "    vendasLista.append(float(vendas[item])/1000)\n",
    "\n",
    "vendasLista"
   ]
  },
  {
   "cell_type": "markdown",
   "metadata": {},
   "source": [
    "### Dados de 2014-2018"
   ]
  },
  {
   "cell_type": "code",
   "execution_count": 1200,
   "metadata": {},
   "outputs": [],
   "source": [
    "data = r.get('https://servicodados.ibge.gov.br/api/v3/agregados/6705/periodos/2014|2015|2016|2017|2018/variaveis/214|1982?localidades=N1[all]&classificacao=816[43264]')"
   ]
  },
  {
   "cell_type": "code",
   "execution_count": 1201,
   "metadata": {},
   "outputs": [
    {
     "data": {
      "text/plain": [
       "[{'id': '214',\n",
       "  'variavel': 'Quantidade produzida',\n",
       "  'unidade': 'Toneladas',\n",
       "  'resultados': [{'classificacoes': [{'id': '816',\n",
       "      'nome': 'Classes das atividades industriais e produtos - Prodlist 2016',\n",
       "      'categoria': {'43264': '2063.2050 Dentifrícios (pastas de dentes; creme dental)'}}],\n",
       "    'series': [{'localidade': {'id': '1',\n",
       "       'nivel': {'id': 'N1', 'nome': 'Brasil'},\n",
       "       'nome': 'Brasil'},\n",
       "      'serie': {'2014': '174050',\n",
       "       '2015': '183944',\n",
       "       '2016': '164239',\n",
       "       '2017': '162058',\n",
       "       '2018': '193515'}}]}]},\n",
       " {'id': '1982',\n",
       "  'variavel': 'Quantidade vendida',\n",
       "  'unidade': 'Toneladas',\n",
       "  'resultados': [{'classificacoes': [{'id': '816',\n",
       "      'nome': 'Classes das atividades industriais e produtos - Prodlist 2016',\n",
       "      'categoria': {'43264': '2063.2050 Dentifrícios (pastas de dentes; creme dental)'}}],\n",
       "    'series': [{'localidade': {'id': '1',\n",
       "       'nivel': {'id': 'N1', 'nome': 'Brasil'},\n",
       "       'nome': 'Brasil'},\n",
       "      'serie': {'2014': '170348',\n",
       "       '2015': '187953',\n",
       "       '2016': '154644',\n",
       "       '2017': '133812',\n",
       "       '2018': '182089'}}]}]}]"
      ]
     },
     "execution_count": 1201,
     "metadata": {},
     "output_type": "execute_result"
    }
   ],
   "source": [
    "data.json()"
   ]
  },
  {
   "cell_type": "markdown",
   "metadata": {},
   "source": [
    "## Dados de produção"
   ]
  },
  {
   "cell_type": "code",
   "execution_count": 1202,
   "metadata": {},
   "outputs": [
    {
     "data": {
      "text/plain": [
       "{'2014': '174050',\n",
       " '2015': '183944',\n",
       " '2016': '164239',\n",
       " '2017': '162058',\n",
       " '2018': '193515'}"
      ]
     },
     "execution_count": 1202,
     "metadata": {},
     "output_type": "execute_result"
    }
   ],
   "source": [
    "dataJProducao = data.json()\n",
    "producao = dataJProducao[0]['resultados'][0]['series'][0]['serie']# Dados de produção\n",
    "\n",
    "producao"
   ]
  },
  {
   "cell_type": "code",
   "execution_count": 1203,
   "metadata": {},
   "outputs": [
    {
     "data": {
      "text/plain": [
       "[161746.13,\n",
       " 179253.671,\n",
       " 172162.88,\n",
       " 153732.885,\n",
       " 184957.618,\n",
       " 151722.422,\n",
       " 150416.767,\n",
       " 153900.283,\n",
       " 170619.937,\n",
       " 174050.0,\n",
       " 183944.0,\n",
       " 164239.0,\n",
       " 162058.0,\n",
       " 193515.0]"
      ]
     },
     "execution_count": 1203,
     "metadata": {},
     "output_type": "execute_result"
    }
   ],
   "source": [
    "\n",
    "for item in producao:\n",
    "    producaoLista.append(float(producao[item]))\n",
    "\n",
    "producaoLista\n"
   ]
  },
  {
   "cell_type": "code",
   "execution_count": 1204,
   "metadata": {},
   "outputs": [
    {
     "data": {
      "text/plain": [
       "2356318.5930000003"
      ]
     },
     "execution_count": 1204,
     "metadata": {},
     "output_type": "execute_result"
    }
   ],
   "source": [
    "producaoListaAcumulada = sum(producaoLista)\n",
    "producaoListaAcumulada"
   ]
  },
  {
   "cell_type": "markdown",
   "metadata": {},
   "source": [
    "## Dados de vendas"
   ]
  },
  {
   "cell_type": "code",
   "execution_count": 1205,
   "metadata": {},
   "outputs": [
    {
     "data": {
      "text/plain": [
       "{'2014': '170348',\n",
       " '2015': '187953',\n",
       " '2016': '154644',\n",
       " '2017': '133812',\n",
       " '2018': '182089'}"
      ]
     },
     "execution_count": 1205,
     "metadata": {},
     "output_type": "execute_result"
    }
   ],
   "source": [
    "dataJVendas = data.json()\n",
    "vendas = dataJVendas[1]['resultados'][0]['series'][0]['serie'] #Dados de vendas\n",
    "vendas"
   ]
  },
  {
   "cell_type": "code",
   "execution_count": 1206,
   "metadata": {},
   "outputs": [
    {
     "data": {
      "text/plain": [
       "[111296.86,\n",
       " 126246.414,\n",
       " 130074.957,\n",
       " 131992.105,\n",
       " 142996.33,\n",
       " 136297.304,\n",
       " 127040.416,\n",
       " 154101.336,\n",
       " 165234.657,\n",
       " 170348.0,\n",
       " 187953.0,\n",
       " 154644.0,\n",
       " 133812.0,\n",
       " 182089.0]"
      ]
     },
     "execution_count": 1206,
     "metadata": {},
     "output_type": "execute_result"
    }
   ],
   "source": [
    "for item in vendas:\n",
    "    vendasLista.append(float(vendas[item]))\n",
    "\n",
    "vendasLista\n",
    "    "
   ]
  },
  {
   "cell_type": "code",
   "execution_count": 1207,
   "metadata": {
    "scrolled": true
   },
   "outputs": [
    {
     "data": {
      "text/plain": [
       "[9274.738333333333,\n",
       " 10520.5345,\n",
       " 10839.579749999999,\n",
       " 10999.342083333335,\n",
       " 11916.360833333332,\n",
       " 11358.108666666667,\n",
       " 10586.701333333333,\n",
       " 12841.778,\n",
       " 13769.554750000001,\n",
       " 14195.666666666666,\n",
       " 15662.75,\n",
       " 12887.0,\n",
       " 11151.0,\n",
       " 15174.083333333334]"
      ]
     },
     "execution_count": 1207,
     "metadata": {},
     "output_type": "execute_result"
    }
   ],
   "source": [
    "vendasLista_media_mensal = []\n",
    "for item in vendasLista:\n",
    "    vendasLista_media_mensal.append(item/12)\n",
    "\n",
    "vendasLista_media_mensal\n"
   ]
  },
  {
   "cell_type": "markdown",
   "metadata": {},
   "source": [
    "## Conversão para unidades"
   ]
  },
  {
   "cell_type": "code",
   "execution_count": 1208,
   "metadata": {},
   "outputs": [
    {
     "data": {
      "text/plain": [
       "[92747383.33333331,\n",
       " 105205345.0,\n",
       " 108395797.49999999,\n",
       " 109993420.83333334,\n",
       " 119163608.33333331,\n",
       " 113581086.66666669,\n",
       " 105867013.33333331,\n",
       " 128417780.0,\n",
       " 137695547.50000003,\n",
       " 141956666.66666666,\n",
       " 156627500.0,\n",
       " 128870000.0,\n",
       " 111510000.0,\n",
       " 151740833.33333334]"
      ]
     },
     "execution_count": 1208,
     "metadata": {},
     "output_type": "execute_result"
    }
   ],
   "source": [
    "Tonelada = 1000 #1 ton = 1000 kg\n",
    "creme_dental = 10 # 1 creme dental = 100g, 1kg = 10 cremes dentais\n",
    "\n",
    "vendas_media_caixas = []\n",
    "for item in vendasLista_media_mensal:\n",
    "    vendas_media_caixas.append(item*Tonelada*creme_dental)\n",
    "\n",
    "vendas_media_caixas"
   ]
  },
  {
   "cell_type": "code",
   "execution_count": 1209,
   "metadata": {},
   "outputs": [],
   "source": [
    "venda_media_caixas = sum(vendas_media_caixas)/len(vendas_media_caixas)"
   ]
  },
  {
   "cell_type": "code",
   "execution_count": 1210,
   "metadata": {},
   "outputs": [
    {
     "data": {
      "text/plain": [
       "122269427.32142857"
      ]
     },
     "execution_count": 1210,
     "metadata": {},
     "output_type": "execute_result"
    }
   ],
   "source": [
    "venda_media_caixas"
   ]
  },
  {
   "cell_type": "code",
   "execution_count": 1211,
   "metadata": {},
   "outputs": [
    {
     "data": {
      "text/plain": [
       "[0.7585492576939443,\n",
       " 0.8604386828722966,\n",
       " 0.886532307173102,\n",
       " 0.8995987242516202,\n",
       " 0.9745985643661313,\n",
       " 0.9289410211113405,\n",
       " 0.8658502428004697,\n",
       " 1.05028528237405,\n",
       " 1.1261649826658502,\n",
       " 1.1610152249546666,\n",
       " 1.281002973770778,\n",
       " 1.0539838357238682,\n",
       " 0.9120023086953405,\n",
       " 1.241036591546542]"
      ]
     },
     "execution_count": 1211,
     "metadata": {},
     "output_type": "execute_result"
    }
   ],
   "source": [
    "vendas_media_caixas_normalizado = [] \n",
    "for item in vendas_media_caixas:\n",
    "    vendas_media_caixas_normalizado.append(item/venda_media_caixas)\n",
    "    \n",
    "vendas_media_caixas_normalizado"
   ]
  },
  {
   "cell_type": "markdown",
   "metadata": {},
   "source": [
    "# Dados econômicos"
   ]
  },
  {
   "cell_type": "code",
   "execution_count": 1212,
   "metadata": {},
   "outputs": [],
   "source": [
    "data = r.get('https://servicodados.ibge.gov.br/api/v3/agregados/6784/periodos/1996|1997|1998|1999|2000|2001|2002|2003|2004|2005|2006|2007|2008|2009|2010|2011|2012|2013|2014|2015|2016|2017|2018/variaveis/9808|93|9812?localidades=N1[all]')\n",
    "data = data.json()"
   ]
  },
  {
   "cell_type": "code",
   "execution_count": 1213,
   "metadata": {},
   "outputs": [
    {
     "data": {
      "text/plain": [
       "[{'id': '9808',\n",
       "  'variavel': 'PIB - valores correntes',\n",
       "  'unidade': 'Milhões de Reais',\n",
       "  'resultados': [{'classificacoes': [],\n",
       "    'series': [{'localidade': {'id': '1',\n",
       "       'nivel': {'id': 'N1', 'nome': 'Brasil'},\n",
       "       'nome': 'Brasil'},\n",
       "      'serie': {'1996': '854764',\n",
       "       '1997': '952089',\n",
       "       '1998': '1002351',\n",
       "       '1999': '1087710',\n",
       "       '2000': '1199092',\n",
       "       '2001': '1315755',\n",
       "       '2002': '1488787',\n",
       "       '2003': '1717950',\n",
       "       '2004': '1957751',\n",
       "       '2005': '2170585',\n",
       "       '2006': '2409450',\n",
       "       '2007': '2720263',\n",
       "       '2008': '3109803',\n",
       "       '2009': '3333039',\n",
       "       '2010': '3885847',\n",
       "       '2011': '4376382',\n",
       "       '2012': '4814760',\n",
       "       '2013': '5331619',\n",
       "       '2014': '5778953',\n",
       "       '2015': '5995787',\n",
       "       '2016': '6269328',\n",
       "       '2017': '6585479',\n",
       "       '2018': '7004141'}}]}]},\n",
       " {'id': '93',\n",
       "  'variavel': 'População residente',\n",
       "  'unidade': 'Mil pessoas',\n",
       "  'resultados': [{'classificacoes': [],\n",
       "    'series': [{'localidade': {'id': '1',\n",
       "       'nivel': {'id': 'N1', 'nome': 'Brasil'},\n",
       "       'nome': 'Brasil'},\n",
       "      'serie': {'1996': '163768',\n",
       "       '1997': '166187',\n",
       "       '1998': '168606',\n",
       "       '1999': '171029',\n",
       "       '2000': '173766',\n",
       "       '2001': '176209',\n",
       "       '2002': '178499',\n",
       "       '2003': '180708',\n",
       "       '2004': '182865',\n",
       "       '2005': '184991',\n",
       "       '2006': '187062',\n",
       "       '2007': '189038',\n",
       "       '2008': '191010',\n",
       "       '2009': '192981',\n",
       "       '2010': '194891',\n",
       "       '2011': '196604',\n",
       "       '2012': '198315',\n",
       "       '2013': '200004',\n",
       "       '2014': '201718',\n",
       "       '2015': '203476',\n",
       "       '2016': '205157',\n",
       "       '2017': '206805',\n",
       "       '2018': '208495'}}]}]},\n",
       " {'id': '9812',\n",
       "  'variavel': 'PIB per capita - valores correntes',\n",
       "  'unidade': 'Reais',\n",
       "  'resultados': [{'classificacoes': [],\n",
       "    'series': [{'localidade': {'id': '1',\n",
       "       'nivel': {'id': 'N1', 'nome': 'Brasil'},\n",
       "       'nome': 'Brasil'},\n",
       "      'serie': {'1996': '5219.36',\n",
       "       '1997': '5729.02',\n",
       "       '1998': '5944.92',\n",
       "       '1999': '6359.80',\n",
       "       '2000': '6900.62',\n",
       "       '2001': '7467.03',\n",
       "       '2002': '8340.58',\n",
       "       '2003': '9506.76',\n",
       "       '2004': '10705.99',\n",
       "       '2005': '11733.45',\n",
       "       '2006': '12880.52',\n",
       "       '2007': '14390.01',\n",
       "       '2008': '16280.82',\n",
       "       '2009': '17271.34',\n",
       "       '2010': '19938.60',\n",
       "       '2011': '22259.91',\n",
       "       '2012': '24278.35',\n",
       "       '2013': '26657.54',\n",
       "       '2014': '28648.74',\n",
       "       '2015': '29466.85',\n",
       "       '2016': '30558.75',\n",
       "       '2017': '31843.95',\n",
       "       '2018': '33593.82'}}]}]}]"
      ]
     },
     "execution_count": 1213,
     "metadata": {},
     "output_type": "execute_result"
    }
   ],
   "source": [
    "data"
   ]
  },
  {
   "cell_type": "code",
   "execution_count": 1214,
   "metadata": {},
   "outputs": [
    {
     "data": {
      "text/plain": [
       "{'1996': '854764',\n",
       " '1997': '952089',\n",
       " '1998': '1002351',\n",
       " '1999': '1087710',\n",
       " '2000': '1199092',\n",
       " '2001': '1315755',\n",
       " '2002': '1488787',\n",
       " '2003': '1717950',\n",
       " '2004': '1957751',\n",
       " '2005': '2170585',\n",
       " '2006': '2409450',\n",
       " '2007': '2720263',\n",
       " '2008': '3109803',\n",
       " '2009': '3333039',\n",
       " '2010': '3885847',\n",
       " '2011': '4376382',\n",
       " '2012': '4814760',\n",
       " '2013': '5331619',\n",
       " '2014': '5778953',\n",
       " '2015': '5995787',\n",
       " '2016': '6269328',\n",
       " '2017': '6585479',\n",
       " '2018': '7004141'}"
      ]
     },
     "execution_count": 1214,
     "metadata": {},
     "output_type": "execute_result"
    }
   ],
   "source": [
    "PIB = data[0]['resultados'][0]['series'][0]['serie']\n",
    "\n",
    "PIB"
   ]
  },
  {
   "cell_type": "code",
   "execution_count": 1215,
   "metadata": {},
   "outputs": [
    {
     "data": {
      "text/plain": [
       "[2170585.0,\n",
       " 2409450.0,\n",
       " 2720263.0,\n",
       " 3109803.0,\n",
       " 3333039.0,\n",
       " 3885847.0,\n",
       " 4376382.0,\n",
       " 4814760.0,\n",
       " 5331619.0,\n",
       " 5778953.0,\n",
       " 5995787.0,\n",
       " 6269328.0,\n",
       " 6585479.0,\n",
       " 7004141.0]"
      ]
     },
     "execution_count": 1215,
     "metadata": {},
     "output_type": "execute_result"
    }
   ],
   "source": [
    "PIBLista = []\n",
    "for ano in range(2005,2019):\n",
    "    PIBLista.append(float(PIB[str(ano)]))\n",
    "    \n",
    "PIBLista\n"
   ]
  },
  {
   "cell_type": "code",
   "execution_count": 1216,
   "metadata": {
    "scrolled": true
   },
   "outputs": [
    {
     "data": {
      "text/plain": [
       "{'1996': '163768',\n",
       " '1997': '166187',\n",
       " '1998': '168606',\n",
       " '1999': '171029',\n",
       " '2000': '173766',\n",
       " '2001': '176209',\n",
       " '2002': '178499',\n",
       " '2003': '180708',\n",
       " '2004': '182865',\n",
       " '2005': '184991',\n",
       " '2006': '187062',\n",
       " '2007': '189038',\n",
       " '2008': '191010',\n",
       " '2009': '192981',\n",
       " '2010': '194891',\n",
       " '2011': '196604',\n",
       " '2012': '198315',\n",
       " '2013': '200004',\n",
       " '2014': '201718',\n",
       " '2015': '203476',\n",
       " '2016': '205157',\n",
       " '2017': '206805',\n",
       " '2018': '208495'}"
      ]
     },
     "execution_count": 1216,
     "metadata": {},
     "output_type": "execute_result"
    }
   ],
   "source": [
    "Populacao = data[1]['resultados'][0]['series'][0]['serie']\n",
    "\n",
    "Populacao"
   ]
  },
  {
   "cell_type": "code",
   "execution_count": 1217,
   "metadata": {},
   "outputs": [
    {
     "data": {
      "text/plain": [
       "[184991.0,\n",
       " 187062.0,\n",
       " 189038.0,\n",
       " 191010.0,\n",
       " 192981.0,\n",
       " 194891.0,\n",
       " 196604.0,\n",
       " 198315.0,\n",
       " 200004.0,\n",
       " 201718.0,\n",
       " 203476.0,\n",
       " 205157.0,\n",
       " 206805.0,\n",
       " 208495.0]"
      ]
     },
     "execution_count": 1217,
     "metadata": {},
     "output_type": "execute_result"
    }
   ],
   "source": [
    "PopulacaoLista = []\n",
    "for ano in range(2005,2019):\n",
    "    PopulacaoLista.append(float(Populacao[str(ano)]))\n",
    "    \n",
    "PopulacaoLista\n"
   ]
  },
  {
   "cell_type": "code",
   "execution_count": 1218,
   "metadata": {},
   "outputs": [
    {
     "data": {
      "text/plain": [
       "{'1996': '5219.36',\n",
       " '1997': '5729.02',\n",
       " '1998': '5944.92',\n",
       " '1999': '6359.80',\n",
       " '2000': '6900.62',\n",
       " '2001': '7467.03',\n",
       " '2002': '8340.58',\n",
       " '2003': '9506.76',\n",
       " '2004': '10705.99',\n",
       " '2005': '11733.45',\n",
       " '2006': '12880.52',\n",
       " '2007': '14390.01',\n",
       " '2008': '16280.82',\n",
       " '2009': '17271.34',\n",
       " '2010': '19938.60',\n",
       " '2011': '22259.91',\n",
       " '2012': '24278.35',\n",
       " '2013': '26657.54',\n",
       " '2014': '28648.74',\n",
       " '2015': '29466.85',\n",
       " '2016': '30558.75',\n",
       " '2017': '31843.95',\n",
       " '2018': '33593.82'}"
      ]
     },
     "execution_count": 1218,
     "metadata": {},
     "output_type": "execute_result"
    }
   ],
   "source": [
    "PIBPerCapita = data[2]['resultados'][0]['series'][0]['serie']\n",
    "\n",
    "PIBPerCapita"
   ]
  },
  {
   "cell_type": "code",
   "execution_count": 1219,
   "metadata": {},
   "outputs": [
    {
     "data": {
      "text/plain": [
       "[11733.45,\n",
       " 12880.52,\n",
       " 14390.01,\n",
       " 16280.82,\n",
       " 17271.34,\n",
       " 19938.6,\n",
       " 22259.91,\n",
       " 24278.35,\n",
       " 26657.54,\n",
       " 28648.74,\n",
       " 29466.85,\n",
       " 30558.75,\n",
       " 31843.95,\n",
       " 33593.82]"
      ]
     },
     "execution_count": 1219,
     "metadata": {},
     "output_type": "execute_result"
    }
   ],
   "source": [
    "PIBPerCapitaLista = []\n",
    "for ano in range(2005,2019):\n",
    "    PIBPerCapitaLista.append(float(PIBPerCapita[str(ano)]))\n",
    "    \n",
    "PIBPerCapitaLista\n"
   ]
  },
  {
   "cell_type": "markdown",
   "metadata": {},
   "source": [
    "# Criando Dataframe"
   ]
  },
  {
   "cell_type": "code",
   "execution_count": 1220,
   "metadata": {},
   "outputs": [],
   "source": [
    "import pandas as pd"
   ]
  },
  {
   "cell_type": "code",
   "execution_count": 1221,
   "metadata": {},
   "outputs": [],
   "source": [
    "df = pd.DataFrame(\n",
    "    {\n",
    "        'Ano': range(2005,2019),\n",
    "        'PIB' : PIBLista,\n",
    "        'Populacao' : PopulacaoLista,\n",
    "        'PIBPerCapita': PIBPerCapitaLista,\n",
    "        'Producao': producaoLista,\n",
    "        'Vendas_mensal_media' : vendas_media_caixas\n",
    "    }\n",
    ")"
   ]
  },
  {
   "cell_type": "code",
   "execution_count": 1222,
   "metadata": {},
   "outputs": [
    {
     "data": {
      "text/html": [
       "<div>\n",
       "<style scoped>\n",
       "    .dataframe tbody tr th:only-of-type {\n",
       "        vertical-align: middle;\n",
       "    }\n",
       "\n",
       "    .dataframe tbody tr th {\n",
       "        vertical-align: top;\n",
       "    }\n",
       "\n",
       "    .dataframe thead th {\n",
       "        text-align: right;\n",
       "    }\n",
       "</style>\n",
       "<table border=\"1\" class=\"dataframe\">\n",
       "  <thead>\n",
       "    <tr style=\"text-align: right;\">\n",
       "      <th></th>\n",
       "      <th>Ano</th>\n",
       "      <th>PIB</th>\n",
       "      <th>Populacao</th>\n",
       "      <th>PIBPerCapita</th>\n",
       "      <th>Producao</th>\n",
       "      <th>Vendas_mensal_media</th>\n",
       "    </tr>\n",
       "  </thead>\n",
       "  <tbody>\n",
       "    <tr>\n",
       "      <th>0</th>\n",
       "      <td>2005</td>\n",
       "      <td>2170585.0</td>\n",
       "      <td>184991.0</td>\n",
       "      <td>11733.45</td>\n",
       "      <td>161746.130</td>\n",
       "      <td>9.274738e+07</td>\n",
       "    </tr>\n",
       "    <tr>\n",
       "      <th>1</th>\n",
       "      <td>2006</td>\n",
       "      <td>2409450.0</td>\n",
       "      <td>187062.0</td>\n",
       "      <td>12880.52</td>\n",
       "      <td>179253.671</td>\n",
       "      <td>1.052053e+08</td>\n",
       "    </tr>\n",
       "    <tr>\n",
       "      <th>2</th>\n",
       "      <td>2007</td>\n",
       "      <td>2720263.0</td>\n",
       "      <td>189038.0</td>\n",
       "      <td>14390.01</td>\n",
       "      <td>172162.880</td>\n",
       "      <td>1.083958e+08</td>\n",
       "    </tr>\n",
       "    <tr>\n",
       "      <th>3</th>\n",
       "      <td>2008</td>\n",
       "      <td>3109803.0</td>\n",
       "      <td>191010.0</td>\n",
       "      <td>16280.82</td>\n",
       "      <td>153732.885</td>\n",
       "      <td>1.099934e+08</td>\n",
       "    </tr>\n",
       "    <tr>\n",
       "      <th>4</th>\n",
       "      <td>2009</td>\n",
       "      <td>3333039.0</td>\n",
       "      <td>192981.0</td>\n",
       "      <td>17271.34</td>\n",
       "      <td>184957.618</td>\n",
       "      <td>1.191636e+08</td>\n",
       "    </tr>\n",
       "    <tr>\n",
       "      <th>5</th>\n",
       "      <td>2010</td>\n",
       "      <td>3885847.0</td>\n",
       "      <td>194891.0</td>\n",
       "      <td>19938.60</td>\n",
       "      <td>151722.422</td>\n",
       "      <td>1.135811e+08</td>\n",
       "    </tr>\n",
       "    <tr>\n",
       "      <th>6</th>\n",
       "      <td>2011</td>\n",
       "      <td>4376382.0</td>\n",
       "      <td>196604.0</td>\n",
       "      <td>22259.91</td>\n",
       "      <td>150416.767</td>\n",
       "      <td>1.058670e+08</td>\n",
       "    </tr>\n",
       "    <tr>\n",
       "      <th>7</th>\n",
       "      <td>2012</td>\n",
       "      <td>4814760.0</td>\n",
       "      <td>198315.0</td>\n",
       "      <td>24278.35</td>\n",
       "      <td>153900.283</td>\n",
       "      <td>1.284178e+08</td>\n",
       "    </tr>\n",
       "    <tr>\n",
       "      <th>8</th>\n",
       "      <td>2013</td>\n",
       "      <td>5331619.0</td>\n",
       "      <td>200004.0</td>\n",
       "      <td>26657.54</td>\n",
       "      <td>170619.937</td>\n",
       "      <td>1.376955e+08</td>\n",
       "    </tr>\n",
       "    <tr>\n",
       "      <th>9</th>\n",
       "      <td>2014</td>\n",
       "      <td>5778953.0</td>\n",
       "      <td>201718.0</td>\n",
       "      <td>28648.74</td>\n",
       "      <td>174050.000</td>\n",
       "      <td>1.419567e+08</td>\n",
       "    </tr>\n",
       "    <tr>\n",
       "      <th>10</th>\n",
       "      <td>2015</td>\n",
       "      <td>5995787.0</td>\n",
       "      <td>203476.0</td>\n",
       "      <td>29466.85</td>\n",
       "      <td>183944.000</td>\n",
       "      <td>1.566275e+08</td>\n",
       "    </tr>\n",
       "    <tr>\n",
       "      <th>11</th>\n",
       "      <td>2016</td>\n",
       "      <td>6269328.0</td>\n",
       "      <td>205157.0</td>\n",
       "      <td>30558.75</td>\n",
       "      <td>164239.000</td>\n",
       "      <td>1.288700e+08</td>\n",
       "    </tr>\n",
       "    <tr>\n",
       "      <th>12</th>\n",
       "      <td>2017</td>\n",
       "      <td>6585479.0</td>\n",
       "      <td>206805.0</td>\n",
       "      <td>31843.95</td>\n",
       "      <td>162058.000</td>\n",
       "      <td>1.115100e+08</td>\n",
       "    </tr>\n",
       "    <tr>\n",
       "      <th>13</th>\n",
       "      <td>2018</td>\n",
       "      <td>7004141.0</td>\n",
       "      <td>208495.0</td>\n",
       "      <td>33593.82</td>\n",
       "      <td>193515.000</td>\n",
       "      <td>1.517408e+08</td>\n",
       "    </tr>\n",
       "  </tbody>\n",
       "</table>\n",
       "</div>"
      ],
      "text/plain": [
       "     Ano        PIB  Populacao  PIBPerCapita    Producao  Vendas_mensal_media\n",
       "0   2005  2170585.0   184991.0      11733.45  161746.130         9.274738e+07\n",
       "1   2006  2409450.0   187062.0      12880.52  179253.671         1.052053e+08\n",
       "2   2007  2720263.0   189038.0      14390.01  172162.880         1.083958e+08\n",
       "3   2008  3109803.0   191010.0      16280.82  153732.885         1.099934e+08\n",
       "4   2009  3333039.0   192981.0      17271.34  184957.618         1.191636e+08\n",
       "5   2010  3885847.0   194891.0      19938.60  151722.422         1.135811e+08\n",
       "6   2011  4376382.0   196604.0      22259.91  150416.767         1.058670e+08\n",
       "7   2012  4814760.0   198315.0      24278.35  153900.283         1.284178e+08\n",
       "8   2013  5331619.0   200004.0      26657.54  170619.937         1.376955e+08\n",
       "9   2014  5778953.0   201718.0      28648.74  174050.000         1.419567e+08\n",
       "10  2015  5995787.0   203476.0      29466.85  183944.000         1.566275e+08\n",
       "11  2016  6269328.0   205157.0      30558.75  164239.000         1.288700e+08\n",
       "12  2017  6585479.0   206805.0      31843.95  162058.000         1.115100e+08\n",
       "13  2018  7004141.0   208495.0      33593.82  193515.000         1.517408e+08"
      ]
     },
     "execution_count": 1222,
     "metadata": {},
     "output_type": "execute_result"
    }
   ],
   "source": [
    "df"
   ]
  },
  {
   "cell_type": "markdown",
   "metadata": {},
   "source": [
    "# Treinando o Modelo"
   ]
  },
  {
   "cell_type": "code",
   "execution_count": 1223,
   "metadata": {},
   "outputs": [],
   "source": [
    "from sklearn.linear_model import LinearRegression\n",
    "from sklearn.model_selection import train_test_split\n",
    "from sklearn import linear_model\n",
    "from sklearn.metrics import mean_absolute_error,mean_squared_error,r2_score,explained_variance_score"
   ]
  },
  {
   "cell_type": "code",
   "execution_count": 1224,
   "metadata": {},
   "outputs": [],
   "source": [
    "x = df.drop(columns=['Vendas_mensal_media' , 'Ano'])\n",
    "y = df['Vendas_mensal_media']"
   ]
  },
  {
   "cell_type": "code",
   "execution_count": 1225,
   "metadata": {},
   "outputs": [
    {
     "data": {
      "text/html": [
       "<div>\n",
       "<style scoped>\n",
       "    .dataframe tbody tr th:only-of-type {\n",
       "        vertical-align: middle;\n",
       "    }\n",
       "\n",
       "    .dataframe tbody tr th {\n",
       "        vertical-align: top;\n",
       "    }\n",
       "\n",
       "    .dataframe thead th {\n",
       "        text-align: right;\n",
       "    }\n",
       "</style>\n",
       "<table border=\"1\" class=\"dataframe\">\n",
       "  <thead>\n",
       "    <tr style=\"text-align: right;\">\n",
       "      <th></th>\n",
       "      <th>PIB</th>\n",
       "      <th>Populacao</th>\n",
       "      <th>PIBPerCapita</th>\n",
       "      <th>Producao</th>\n",
       "    </tr>\n",
       "  </thead>\n",
       "  <tbody>\n",
       "    <tr>\n",
       "      <th>0</th>\n",
       "      <td>2170585.0</td>\n",
       "      <td>184991.0</td>\n",
       "      <td>11733.45</td>\n",
       "      <td>161746.130</td>\n",
       "    </tr>\n",
       "    <tr>\n",
       "      <th>1</th>\n",
       "      <td>2409450.0</td>\n",
       "      <td>187062.0</td>\n",
       "      <td>12880.52</td>\n",
       "      <td>179253.671</td>\n",
       "    </tr>\n",
       "    <tr>\n",
       "      <th>2</th>\n",
       "      <td>2720263.0</td>\n",
       "      <td>189038.0</td>\n",
       "      <td>14390.01</td>\n",
       "      <td>172162.880</td>\n",
       "    </tr>\n",
       "    <tr>\n",
       "      <th>3</th>\n",
       "      <td>3109803.0</td>\n",
       "      <td>191010.0</td>\n",
       "      <td>16280.82</td>\n",
       "      <td>153732.885</td>\n",
       "    </tr>\n",
       "    <tr>\n",
       "      <th>4</th>\n",
       "      <td>3333039.0</td>\n",
       "      <td>192981.0</td>\n",
       "      <td>17271.34</td>\n",
       "      <td>184957.618</td>\n",
       "    </tr>\n",
       "    <tr>\n",
       "      <th>5</th>\n",
       "      <td>3885847.0</td>\n",
       "      <td>194891.0</td>\n",
       "      <td>19938.60</td>\n",
       "      <td>151722.422</td>\n",
       "    </tr>\n",
       "    <tr>\n",
       "      <th>6</th>\n",
       "      <td>4376382.0</td>\n",
       "      <td>196604.0</td>\n",
       "      <td>22259.91</td>\n",
       "      <td>150416.767</td>\n",
       "    </tr>\n",
       "    <tr>\n",
       "      <th>7</th>\n",
       "      <td>4814760.0</td>\n",
       "      <td>198315.0</td>\n",
       "      <td>24278.35</td>\n",
       "      <td>153900.283</td>\n",
       "    </tr>\n",
       "    <tr>\n",
       "      <th>8</th>\n",
       "      <td>5331619.0</td>\n",
       "      <td>200004.0</td>\n",
       "      <td>26657.54</td>\n",
       "      <td>170619.937</td>\n",
       "    </tr>\n",
       "    <tr>\n",
       "      <th>9</th>\n",
       "      <td>5778953.0</td>\n",
       "      <td>201718.0</td>\n",
       "      <td>28648.74</td>\n",
       "      <td>174050.000</td>\n",
       "    </tr>\n",
       "    <tr>\n",
       "      <th>10</th>\n",
       "      <td>5995787.0</td>\n",
       "      <td>203476.0</td>\n",
       "      <td>29466.85</td>\n",
       "      <td>183944.000</td>\n",
       "    </tr>\n",
       "    <tr>\n",
       "      <th>11</th>\n",
       "      <td>6269328.0</td>\n",
       "      <td>205157.0</td>\n",
       "      <td>30558.75</td>\n",
       "      <td>164239.000</td>\n",
       "    </tr>\n",
       "    <tr>\n",
       "      <th>12</th>\n",
       "      <td>6585479.0</td>\n",
       "      <td>206805.0</td>\n",
       "      <td>31843.95</td>\n",
       "      <td>162058.000</td>\n",
       "    </tr>\n",
       "    <tr>\n",
       "      <th>13</th>\n",
       "      <td>7004141.0</td>\n",
       "      <td>208495.0</td>\n",
       "      <td>33593.82</td>\n",
       "      <td>193515.000</td>\n",
       "    </tr>\n",
       "  </tbody>\n",
       "</table>\n",
       "</div>"
      ],
      "text/plain": [
       "          PIB  Populacao  PIBPerCapita    Producao\n",
       "0   2170585.0   184991.0      11733.45  161746.130\n",
       "1   2409450.0   187062.0      12880.52  179253.671\n",
       "2   2720263.0   189038.0      14390.01  172162.880\n",
       "3   3109803.0   191010.0      16280.82  153732.885\n",
       "4   3333039.0   192981.0      17271.34  184957.618\n",
       "5   3885847.0   194891.0      19938.60  151722.422\n",
       "6   4376382.0   196604.0      22259.91  150416.767\n",
       "7   4814760.0   198315.0      24278.35  153900.283\n",
       "8   5331619.0   200004.0      26657.54  170619.937\n",
       "9   5778953.0   201718.0      28648.74  174050.000\n",
       "10  5995787.0   203476.0      29466.85  183944.000\n",
       "11  6269328.0   205157.0      30558.75  164239.000\n",
       "12  6585479.0   206805.0      31843.95  162058.000\n",
       "13  7004141.0   208495.0      33593.82  193515.000"
      ]
     },
     "execution_count": 1225,
     "metadata": {},
     "output_type": "execute_result"
    }
   ],
   "source": [
    "x"
   ]
  },
  {
   "cell_type": "code",
   "execution_count": 1226,
   "metadata": {},
   "outputs": [
    {
     "data": {
      "text/plain": [
       "0     9.274738e+07\n",
       "1     1.052053e+08\n",
       "2     1.083958e+08\n",
       "3     1.099934e+08\n",
       "4     1.191636e+08\n",
       "5     1.135811e+08\n",
       "6     1.058670e+08\n",
       "7     1.284178e+08\n",
       "8     1.376955e+08\n",
       "9     1.419567e+08\n",
       "10    1.566275e+08\n",
       "11    1.288700e+08\n",
       "12    1.115100e+08\n",
       "13    1.517408e+08\n",
       "Name: Vendas_mensal_media, dtype: float64"
      ]
     },
     "execution_count": 1226,
     "metadata": {},
     "output_type": "execute_result"
    }
   ],
   "source": [
    "y"
   ]
  },
  {
   "cell_type": "code",
   "execution_count": 1227,
   "metadata": {},
   "outputs": [],
   "source": [
    "x_train,x_test,y_train,y_test = train_test_split(x,y,random_state=9)"
   ]
  },
  {
   "cell_type": "code",
   "execution_count": 1228,
   "metadata": {},
   "outputs": [
    {
     "name": "stdout",
     "output_type": "stream",
     "text": [
      "10 4\n"
     ]
    }
   ],
   "source": [
    "print(len(x_train),len(x_test))"
   ]
  },
  {
   "cell_type": "code",
   "execution_count": 1229,
   "metadata": {},
   "outputs": [],
   "source": [
    "lr = LinearRegression()"
   ]
  },
  {
   "cell_type": "code",
   "execution_count": 1230,
   "metadata": {},
   "outputs": [
    {
     "data": {
      "text/plain": [
       "LinearRegression()"
      ]
     },
     "execution_count": 1230,
     "metadata": {},
     "output_type": "execute_result"
    }
   ],
   "source": [
    "lr.fit(x_train,y_train)"
   ]
  },
  {
   "cell_type": "code",
   "execution_count": 1231,
   "metadata": {},
   "outputs": [],
   "source": [
    "y_pred = lr.predict(x_test)"
   ]
  },
  {
   "cell_type": "code",
   "execution_count": 1232,
   "metadata": {},
   "outputs": [
    {
     "name": "stdout",
     "output_type": "stream",
     "text": [
      "10985538.681053821\n"
     ]
    }
   ],
   "source": [
    "print(mean_absolute_error(y_test,y_pred))"
   ]
  },
  {
   "cell_type": "code",
   "execution_count": 1233,
   "metadata": {},
   "outputs": [
    {
     "name": "stdout",
     "output_type": "stream",
     "text": [
      "177925021613394.5\n"
     ]
    }
   ],
   "source": [
    "print(mean_squared_error(y_test, y_pred))"
   ]
  },
  {
   "cell_type": "code",
   "execution_count": 1234,
   "metadata": {},
   "outputs": [
    {
     "name": "stdout",
     "output_type": "stream",
     "text": [
      "0.5231172023386934\n"
     ]
    }
   ],
   "source": [
    "print(r2_score(y_test,y_pred))"
   ]
  },
  {
   "cell_type": "code",
   "execution_count": 1235,
   "metadata": {
    "scrolled": false
   },
   "outputs": [
    {
     "name": "stdout",
     "output_type": "stream",
     "text": [
      "0.8465747910033973\n"
     ]
    }
   ],
   "source": [
    "print(explained_variance_score(y_test,y_pred))"
   ]
  },
  {
   "cell_type": "code",
   "execution_count": 1236,
   "metadata": {},
   "outputs": [],
   "source": [
    "lasso = linear_model.Lasso(alpha=1,max_iter=1000)"
   ]
  },
  {
   "cell_type": "code",
   "execution_count": 1237,
   "metadata": {},
   "outputs": [
    {
     "name": "stderr",
     "output_type": "stream",
     "text": [
      "C:\\Users\\Ricardo\\AppData\\Roaming\\Python\\Python37\\site-packages\\sklearn\\linear_model\\_coordinate_descent.py:531: ConvergenceWarning: Objective did not converge. You might want to increase the number of iterations. Duality gap: 186556930270916.62, tolerance: 213772415120.1184\n",
      "  positive)\n"
     ]
    },
    {
     "data": {
      "text/plain": [
       "Lasso(alpha=1)"
      ]
     },
     "execution_count": 1237,
     "metadata": {},
     "output_type": "execute_result"
    }
   ],
   "source": [
    "lasso.fit(x_train,y_train)"
   ]
  },
  {
   "cell_type": "code",
   "execution_count": 1238,
   "metadata": {},
   "outputs": [],
   "source": [
    "y_pred = lasso.predict(x_test)"
   ]
  },
  {
   "cell_type": "code",
   "execution_count": 1239,
   "metadata": {},
   "outputs": [
    {
     "name": "stdout",
     "output_type": "stream",
     "text": [
      "9811772.393472217\n"
     ]
    }
   ],
   "source": [
    "print(mean_absolute_error(y_test,y_pred))"
   ]
  },
  {
   "cell_type": "code",
   "execution_count": 1240,
   "metadata": {},
   "outputs": [
    {
     "name": "stdout",
     "output_type": "stream",
     "text": [
      "134083069398251.17\n"
     ]
    }
   ],
   "source": [
    "print(mean_squared_error(y_test, y_pred))"
   ]
  },
  {
   "cell_type": "code",
   "execution_count": 1241,
   "metadata": {},
   "outputs": [
    {
     "name": "stdout",
     "output_type": "stream",
     "text": [
      "0.6406244120481843\n"
     ]
    }
   ],
   "source": [
    "print(r2_score(y_test,y_pred))"
   ]
  },
  {
   "cell_type": "code",
   "execution_count": 1242,
   "metadata": {},
   "outputs": [
    {
     "name": "stdout",
     "output_type": "stream",
     "text": [
      "0.8986540302538026\n"
     ]
    }
   ],
   "source": [
    "print(explained_variance_score(y_test,y_pred))"
   ]
  }
 ],
 "metadata": {
  "kernelspec": {
   "display_name": "Python 3",
   "language": "python",
   "name": "python3"
  },
  "language_info": {
   "codemirror_mode": {
    "name": "ipython",
    "version": 3
   },
   "file_extension": ".py",
   "mimetype": "text/x-python",
   "name": "python",
   "nbconvert_exporter": "python",
   "pygments_lexer": "ipython3",
   "version": "3.7.6"
  }
 },
 "nbformat": 4,
 "nbformat_minor": 4
}
